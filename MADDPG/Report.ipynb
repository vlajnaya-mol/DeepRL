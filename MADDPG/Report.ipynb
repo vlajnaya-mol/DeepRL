{
 "cells": [
  {
   "cell_type": "markdown",
   "metadata": {},
   "source": [
    "# Report: Collaboration and Competition with MADDPG\n",
    "\n",
    "### Project Overview\n",
    "\n",
    "The goal of this project is to train two reinforcement learning agents to play a game of tennis. The agents control rackets and must learn to hit a ball back and forth over a net. This is a multi-agent environment where the agents can be seen as both collaborating (to keep the rally going) and competing.\n",
    "\n",
    "The task is solved using a **Multi-Agent Deep Deterministic Policy Gradient (MADDPG)** algorithm, enhanced with techniques from **Twin-Delayed DDPG (TD3)** for improved stability. The environment is considered \"solved\" when the agents achieve an average score of **+0.5 over 100 consecutive episodes**."
   ]
  },
  {
   "cell_type": "markdown",
   "metadata": {},
   "source": [
    "## 1. Learning Algorithm\n",
    "\n",
    "The algorithm implemented to solve this environment is the **Multi-Agent Deep Deterministic Policy Gradient (MADDPG)**. This is an actor-critic method that extends the DDPG algorithm to multi-agent settings, making it suitable for environments with both cooperative and competitive elements.\n",
    "\n",
    "### Key Concepts: MADDPG with TD3 Enhancements\n",
    "\n",
    "1.  **Centralized Training with Decentralized Execution (CTDE)**: This is the core idea behind MADDPG.\n",
    "    *   **Centralized Training**: During training, a centralized **critic** for each agent has access to the observations and actions of *all* agents. This global perspective allows the critic to learn a stable and accurate Q-function, even though the environment is non-stationary from the perspective of any single agent (since other agents' policies are also changing).\n",
    "    *   **Decentralized Execution**: During execution (acting in the environment), each agent's **actor** only uses its own local observations to select an action. This is practical for real-world scenarios where agents may not have access to global information.\n",
    "\n",
    "2.  **Independent Agents**: The implementation consists of two independent DDPG agents, each with its own actor and critic networks. However, they share a common experience replay buffer.\n",
    "\n",
    "3.  **TD3 Enhancements for Stability**: To improve upon the stability of DDPG, this implementation incorporates key features from the **Twin-Delayed DDPG (TD3)** algorithm:\n",
    "    *   **Clipped Double-Q Learning**: Two critic networks are used for each agent. When calculating the target Q-value for the Bellman update, the *minimum* of the two critics' predictions is used. This helps to mitigate the overestimation bias commonly found in Q-learning methods.\n",
    "    *   **Target Policy Smoothing**: Noise is added to the target action during the critic update. This smooths the value function and makes the policy less likely to exploit narrow peaks in the Q-function.\n",
    "    *   **Delayed Policy Updates**: The actor (policy) and target networks are updated less frequently than the critic networks. This allows the critic's value estimate to stabilize before the policy is updated, leading to more stable training.\n",
    "\n",
    "### Model Architectures\n",
    "\n",
    "**Actor Network** (for each agent)\n",
    "*   **Input Layer**: 24 units (State Size)\n",
    "*   **Hidden Layer 1**: 256 units (with ReLU activation)\n",
    "*   **Hidden Layer 2**: 128 units (with ReLU activation)\n",
    "*   **Output Layer**: 2 units (Action Size, with Tanh activation)\n",
    "\n",
    "**Critic Network** (for each agent, two critics per agent for TD3)\n",
    "The critic takes the combined states and actions of *all* agents as input.\n",
    "*   **Input Layer (States)**: 48 units (24 per agent * 2 agents) -> **Hidden Layer 1**: 256 units (with Leaky ReLU)\n",
    "*   **Concatenation**: The output is concatenated with the combined action vector (4 units total).\n",
    "*   **Hidden Layer 2**: 256 units (with Leaky ReLU)\n",
    "*   **Hidden Layer 3**: 128 units (with Leaky ReLU)\n",
    "*   **Output Layer**: 1 unit (Q-value)\n",
    "\n",
    "### Hyperparameters\n",
    "\n",
    "| Hyperparameter            | Value           | Description                                                        |\n",
    "| ------------------------- | --------------- | ------------------------------------------------------------------ |\n",
    "| `BUFFER_SIZE`             | 1e6             | Replay buffer size                                                 |\n",
    "| `BATCH_SIZE`              | 256             | Minibatch size                                                     |\n",
    "| `GAMMA`                   | 0.99            | Discount factor                                                    |\n",
    "| `TAU`                     | 1e-3            | Soft update parameter for target networks                          |\n",
    "| `LR_ACTOR`                | 1e-4            | Learning rate for the actor optimizer                              |\n",
    "| `LR_CRITIC`               | 3e-4            | Learning rate for the critic optimizer                             |\n",
    "| `WEIGHT_DECAY`            | 0               | L2 weight decay                                                    |\n",
    "| `NOISE_SIGMA`             | 0.2             | Ornstein-Uhlenbeck noise `sigma` parameter                         |\n",
    "| `UPDATE_EACH`             | 1               | Update the network every 1 time step                               |\n",
    "| `UPDATES_PER_STEP`        | 1               | Perform 1 update per time step                                     |\n",
    "| `TD3_DELAY`               | 2               | Delay policy updates by 2 critic updates                           |\n",
    "| `TARGET_POLICY_NOISE`     | 0.2             | Stddev of noise for target policy smoothing                        |\n",
    "| `NOISE_CLIP`              | 0.5             | Clip for target policy smoothing noise                             |\n",
    "| `n_episodes`              | 3200            | Maximum number of training episodes                                |"
   ]
  },
  {
   "cell_type": "markdown",
   "metadata": {},
   "source": [
    "# Collaboration and Competition\n",
    "\n",
    "### 0. Prerequisites\n",
    "\n",
    "Follow environment creation and dependecy installation guidelines from the README.md file\n",
    "\n",
    "### 1. Start the Environment"
   ]
  },
  {
   "cell_type": "code",
   "execution_count": 1,
   "metadata": {},
   "outputs": [
    {
     "name": "stdout",
     "output_type": "stream",
     "text": [
      "/Users/olehborovyk/Code/drlnd\n"
     ]
    }
   ],
   "source": [
    "%cd ../../"
   ]
  },
  {
   "cell_type": "code",
   "execution_count": 2,
   "metadata": {},
   "outputs": [],
   "source": [
    "from unityagents import UnityEnvironment\n",
    "import numpy as np\n",
    "import torch, os"
   ]
  },
  {
   "cell_type": "code",
   "execution_count": 3,
   "metadata": {},
   "outputs": [],
   "source": [
    "torch.set_num_threads(4)\n",
    "torch.set_num_interop_threads(1)\n",
    "os.environ[\"OMP_NUM_THREADS\"] = \"4\""
   ]
  },
  {
   "cell_type": "code",
   "execution_count": 4,
   "metadata": {},
   "outputs": [
    {
     "name": "stderr",
     "output_type": "stream",
     "text": [
      "INFO:unityagents:\n",
      "'Academy' started successfully!\n",
      "Unity Academy name: Academy\n",
      "        Number of Brains: 1\n",
      "        Number of External Brains : 1\n",
      "        Lesson number : 0\n",
      "        Reset Parameters :\n",
      "\t\t\n",
      "Unity brain name: TennisBrain\n",
      "        Number of Visual Observations (per agent): 0\n",
      "        Vector Observation space type: continuous\n",
      "        Vector Observation space size (per agent): 8\n",
      "        Number of stacked Vector Observation: 3\n",
      "        Vector Action space type: continuous\n",
      "        Vector Action space size (per agent): 2\n",
      "        Vector Action descriptions: , \n"
     ]
    }
   ],
   "source": [
    "path = os.path.join(os.getcwd(), \"DeepRL\", \"MADDPG\", \"Tennis.app\")\n",
    "env = UnityEnvironment(file_name=path)"
   ]
  },
  {
   "cell_type": "code",
   "execution_count": 5,
   "metadata": {},
   "outputs": [],
   "source": [
    "# get the default brain\n",
    "brain_name = env.brain_names[0]\n",
    "brain = env.brains[brain_name]"
   ]
  },
  {
   "cell_type": "markdown",
   "metadata": {},
   "source": [
    "### 2. Examine the State and Action Spaces"
   ]
  },
  {
   "cell_type": "code",
   "execution_count": 6,
   "metadata": {},
   "outputs": [
    {
     "name": "stdout",
     "output_type": "stream",
     "text": [
      "Number of agents: 2\n",
      "Size of each action: 2\n",
      "There are 2 agents. Each observes a state with length: 24\n",
      "The state for the first agent looks like: [ 0.          0.          0.          0.          0.          0.\n",
      "  0.          0.          0.          0.          0.          0.\n",
      "  0.          0.          0.          0.         -6.65278625 -1.5\n",
      " -0.          0.          6.83172083  6.         -0.          0.        ]\n"
     ]
    }
   ],
   "source": [
    "# reset the environment\n",
    "env_info = env.reset(train_mode=True)[brain_name]\n",
    "\n",
    "# number of agents \n",
    "num_agents = len(env_info.agents)\n",
    "print('Number of agents:', num_agents)\n",
    "\n",
    "# size of each action\n",
    "action_size = brain.vector_action_space_size\n",
    "print('Size of each action:', action_size)\n",
    "\n",
    "# examine the state space \n",
    "states = env_info.vector_observations\n",
    "state_size = states.shape[1]\n",
    "print('There are {} agents. Each observes a state with length: {}'.format(states.shape[0], state_size))\n",
    "print('The state for the first agent looks like:', states[0])"
   ]
  },
  {
   "cell_type": "markdown",
   "metadata": {},
   "source": [
    "### 3. MADDPG Training\n"
   ]
  },
  {
   "cell_type": "code",
   "execution_count": 7,
   "metadata": {},
   "outputs": [],
   "source": [
    "import random\n",
    "import time\n",
    "from tqdm import tqdm\n",
    "from collections import deque\n",
    "import pandas as pd\n",
    "import matplotlib.pyplot as plt\n",
    "%matplotlib inline\n",
    "\n",
    "from DeepRL.MADDPG.maddpg import MADDPG\n"
   ]
  },
  {
   "cell_type": "code",
   "execution_count": 8,
   "metadata": {},
   "outputs": [],
   "source": [
    "RANDOM_SEED = 42\n",
    "np.random.seed(RANDOM_SEED); torch.manual_seed(RANDOM_SEED)\n",
    "\n",
    "agent = MADDPG(\n",
    "    state_size=24,\n",
    "    action_size=2,\n",
    "    n_agents=2,\n",
    "    random_seed=RANDOM_SEED,\n",
    "\n",
    "    # replay / batch\n",
    "    buffer_size=int(1e6),\n",
    "    batch_size=256,\n",
    "\n",
    "    # RL\n",
    "    gamma=0.99,\n",
    "    tau=1e-3,\n",
    "\n",
    "    # optim\n",
    "    lr_actor=1e-4,\n",
    "    lr_critic=3e-4,\n",
    "    weight_decay=0,\n",
    "\n",
    "    noise_mu=0.0,\n",
    "    noise_theta=0.15,\n",
    "    noise_sigma=0.2,\n",
    "\n",
    "    # update cadence\n",
    "    warmup_steps=1000,\n",
    "    update_each=1,\n",
    "    updates_per_step=1,\n",
    "\n",
    "    # TD3 bits\n",
    "    td3_critic=True,\n",
    "    td3_delay=2,\n",
    "    target_policy_noise=0.2,\n",
    "    noise_clip=0.5,\n",
    ")\n",
    "n_episodes = 4_000\n",
    "avg_score_over_k_episodes = 100"
   ]
  },
  {
   "cell_type": "code",
   "execution_count": 9,
   "metadata": {
    "tags": []
   },
   "outputs": [
    {
     "name": "stderr",
     "output_type": "stream",
     "text": [
      "  2%|▎         | 100/4000 [00:27<47:55,  1.36it/s, Ep. score=0.000] "
     ]
    },
    {
     "name": "stdout",
     "output_type": "stream",
     "text": [
      "Avg. score over last 100 episodes: 0.006\n"
     ]
    },
    {
     "name": "stderr",
     "output_type": "stream",
     "text": [
      "  5%|▌         | 200/4000 [01:38<38:48,  1.63it/s, Ep. score=0.000]  "
     ]
    },
    {
     "name": "stdout",
     "output_type": "stream",
     "text": [
      "Avg. score over last 100 episodes: 0.002\n"
     ]
    },
    {
     "name": "stderr",
     "output_type": "stream",
     "text": [
      "  8%|▊         | 300/4000 [02:38<37:37,  1.64it/s, Ep. score=0.000]"
     ]
    },
    {
     "name": "stdout",
     "output_type": "stream",
     "text": [
      "Avg. score over last 100 episodes: 0.000\n"
     ]
    },
    {
     "name": "stderr",
     "output_type": "stream",
     "text": [
      " 10%|█         | 400/4000 [03:40<38:33,  1.56it/s, Ep. score=0.000]"
     ]
    },
    {
     "name": "stdout",
     "output_type": "stream",
     "text": [
      "Avg. score over last 100 episodes: 0.000\n"
     ]
    },
    {
     "name": "stderr",
     "output_type": "stream",
     "text": [
      " 12%|█▎        | 500/4000 [04:41<36:42,  1.59it/s, Ep. score=0.000]"
     ]
    },
    {
     "name": "stdout",
     "output_type": "stream",
     "text": [
      "Avg. score over last 100 episodes: 0.000\n"
     ]
    },
    {
     "name": "stderr",
     "output_type": "stream",
     "text": [
      " 15%|█▌        | 600/4000 [05:42<33:40,  1.68it/s, Ep. score=0.000]"
     ]
    },
    {
     "name": "stdout",
     "output_type": "stream",
     "text": [
      "Avg. score over last 100 episodes: 0.000\n"
     ]
    },
    {
     "name": "stderr",
     "output_type": "stream",
     "text": [
      " 18%|█▊        | 700/4000 [07:05<34:34,  1.59it/s, Ep. score=0.000]  "
     ]
    },
    {
     "name": "stdout",
     "output_type": "stream",
     "text": [
      "Avg. score over last 100 episodes: 0.016\n"
     ]
    },
    {
     "name": "stderr",
     "output_type": "stream",
     "text": [
      " 20%|██        | 800/4000 [08:18<53:39,  1.01s/it, Ep. score=0.100]  "
     ]
    },
    {
     "name": "stdout",
     "output_type": "stream",
     "text": [
      "Avg. score over last 100 episodes: 0.010\n"
     ]
    },
    {
     "name": "stderr",
     "output_type": "stream",
     "text": [
      " 22%|██▎       | 900/4000 [10:04<1:07:12,  1.30s/it, Ep. score=0.100]"
     ]
    },
    {
     "name": "stdout",
     "output_type": "stream",
     "text": [
      "Avg. score over last 100 episodes: 0.048\n"
     ]
    },
    {
     "name": "stderr",
     "output_type": "stream",
     "text": [
      " 25%|██▌       | 1000/4000 [11:45<33:39,  1.49it/s, Ep. score=0.000] "
     ]
    },
    {
     "name": "stdout",
     "output_type": "stream",
     "text": [
      "Avg. score over last 100 episodes: 0.042\n"
     ]
    },
    {
     "name": "stderr",
     "output_type": "stream",
     "text": [
      " 28%|██▊       | 1100/4000 [13:12<48:19,  1.00it/s, Ep. score=0.090]  "
     ]
    },
    {
     "name": "stdout",
     "output_type": "stream",
     "text": [
      "Avg. score over last 100 episodes: 0.029\n"
     ]
    },
    {
     "name": "stderr",
     "output_type": "stream",
     "text": [
      " 30%|███       | 1200/4000 [14:29<30:10,  1.55it/s, Ep. score=0.000]  "
     ]
    },
    {
     "name": "stdout",
     "output_type": "stream",
     "text": [
      "Avg. score over last 100 episodes: 0.016\n"
     ]
    },
    {
     "name": "stderr",
     "output_type": "stream",
     "text": [
      " 32%|███▎      | 1300/4000 [15:45<48:05,  1.07s/it, Ep. score=0.000]  "
     ]
    },
    {
     "name": "stdout",
     "output_type": "stream",
     "text": [
      "Avg. score over last 100 episodes: 0.013\n"
     ]
    },
    {
     "name": "stderr",
     "output_type": "stream",
     "text": [
      " 35%|███▌      | 1400/4000 [17:08<27:44,  1.56it/s, Ep. score=0.000]  "
     ]
    },
    {
     "name": "stdout",
     "output_type": "stream",
     "text": [
      "Avg. score over last 100 episodes: 0.022\n"
     ]
    },
    {
     "name": "stderr",
     "output_type": "stream",
     "text": [
      " 38%|███▊      | 1500/4000 [19:26<29:54,  1.39it/s, Ep. score=0.000]  "
     ]
    },
    {
     "name": "stdout",
     "output_type": "stream",
     "text": [
      "Avg. score over last 100 episodes: 0.065\n"
     ]
    },
    {
     "name": "stderr",
     "output_type": "stream",
     "text": [
      " 40%|████      | 1600/4000 [21:20<45:14,  1.13s/it, Ep. score=0.000]  "
     ]
    },
    {
     "name": "stdout",
     "output_type": "stream",
     "text": [
      "Avg. score over last 100 episodes: 0.060\n"
     ]
    },
    {
     "name": "stderr",
     "output_type": "stream",
     "text": [
      " 42%|████▎     | 1700/4000 [23:29<45:27,  1.19s/it, Ep. score=0.090]  "
     ]
    },
    {
     "name": "stdout",
     "output_type": "stream",
     "text": [
      "Avg. score over last 100 episodes: 0.080\n"
     ]
    },
    {
     "name": "stderr",
     "output_type": "stream",
     "text": [
      " 45%|████▌     | 1800/4000 [26:01<1:23:11,  2.27s/it, Ep. score=0.090]"
     ]
    },
    {
     "name": "stdout",
     "output_type": "stream",
     "text": [
      "Avg. score over last 100 episodes: 0.092\n"
     ]
    },
    {
     "name": "stderr",
     "output_type": "stream",
     "text": [
      " 48%|████▊     | 1900/4000 [28:44<1:00:34,  1.73s/it, Ep. score=0.090]"
     ]
    },
    {
     "name": "stdout",
     "output_type": "stream",
     "text": [
      "Avg. score over last 100 episodes: 0.098\n"
     ]
    },
    {
     "name": "stderr",
     "output_type": "stream",
     "text": [
      " 50%|█████     | 2000/4000 [31:19<45:53,  1.38s/it, Ep. score=0.100]  "
     ]
    },
    {
     "name": "stdout",
     "output_type": "stream",
     "text": [
      "Avg. score over last 100 episodes: 0.091\n"
     ]
    },
    {
     "name": "stderr",
     "output_type": "stream",
     "text": [
      " 52%|█████▎    | 2100/4000 [34:27<1:06:55,  2.11s/it, Ep. score=0.100]"
     ]
    },
    {
     "name": "stdout",
     "output_type": "stream",
     "text": [
      "Avg. score over last 100 episodes: 0.112\n"
     ]
    },
    {
     "name": "stderr",
     "output_type": "stream",
     "text": [
      " 55%|█████▌    | 2200/4000 [36:58<45:53,  1.53s/it, Ep. score=0.100]  "
     ]
    },
    {
     "name": "stdout",
     "output_type": "stream",
     "text": [
      "Avg. score over last 100 episodes: 0.090\n"
     ]
    },
    {
     "name": "stderr",
     "output_type": "stream",
     "text": [
      " 57%|█████▊    | 2300/4000 [39:39<36:43,  1.30s/it, Ep. score=0.100]  "
     ]
    },
    {
     "name": "stdout",
     "output_type": "stream",
     "text": [
      "Avg. score over last 100 episodes: 0.098\n"
     ]
    },
    {
     "name": "stderr",
     "output_type": "stream",
     "text": [
      " 60%|██████    | 2400/4000 [42:29<31:41,  1.19s/it, Ep. score=0.100]  "
     ]
    },
    {
     "name": "stdout",
     "output_type": "stream",
     "text": [
      "Avg. score over last 100 episodes: 0.110\n"
     ]
    },
    {
     "name": "stderr",
     "output_type": "stream",
     "text": [
      " 62%|██████▎   | 2500/4000 [45:33<49:13,  1.97s/it, Ep. score=0.090]  "
     ]
    },
    {
     "name": "stdout",
     "output_type": "stream",
     "text": [
      "Avg. score over last 100 episodes: 0.119\n"
     ]
    },
    {
     "name": "stderr",
     "output_type": "stream",
     "text": [
      " 65%|██████▌   | 2600/4000 [50:52<1:48:50,  4.66s/it, Ep. score=0.400]"
     ]
    },
    {
     "name": "stdout",
     "output_type": "stream",
     "text": [
      "Avg. score over last 100 episodes: 0.200\n"
     ]
    },
    {
     "name": "stderr",
     "output_type": "stream",
     "text": [
      " 68%|██████▊   | 2700/4000 [55:44<1:10:17,  3.24s/it, Ep. score=0.200]"
     ]
    },
    {
     "name": "stdout",
     "output_type": "stream",
     "text": [
      "Avg. score over last 100 episodes: 0.169\n"
     ]
    },
    {
     "name": "stderr",
     "output_type": "stream",
     "text": [
      " 70%|███████   | 2800/4000 [1:00:31<45:19,  2.27s/it, Ep. score=0.100]  "
     ]
    },
    {
     "name": "stdout",
     "output_type": "stream",
     "text": [
      "Avg. score over last 100 episodes: 0.177\n"
     ]
    },
    {
     "name": "stderr",
     "output_type": "stream",
     "text": [
      " 72%|███████▎  | 2900/4000 [1:06:27<1:18:54,  4.30s/it, Ep. score=0.100]"
     ]
    },
    {
     "name": "stdout",
     "output_type": "stream",
     "text": [
      "Avg. score over last 100 episodes: 0.217\n"
     ]
    },
    {
     "name": "stderr",
     "output_type": "stream",
     "text": [
      " 75%|███████▌  | 3000/4000 [1:16:05<1:46:01,  6.36s/it, Ep. score=0.100]"
     ]
    },
    {
     "name": "stdout",
     "output_type": "stream",
     "text": [
      "Avg. score over last 100 episodes: 0.340\n"
     ]
    },
    {
     "name": "stderr",
     "output_type": "stream",
     "text": [
      " 78%|███████▊  | 3100/4000 [1:28:58<1:47:37,  7.17s/it, Ep. score=0.600]"
     ]
    },
    {
     "name": "stdout",
     "output_type": "stream",
     "text": [
      "Avg. score over last 100 episodes: 0.475\n"
     ]
    },
    {
     "name": "stderr",
     "output_type": "stream",
     "text": [
      " 78%|███████▊  | 3137/4000 [1:33:16<2:25:50, 10.14s/it, Ep. score=1.100]"
     ]
    },
    {
     "name": "stdout",
     "output_type": "stream",
     "text": [
      "PROBLEM SOLVED! Achieved 0.5034 score over the last 100 episodes\n"
     ]
    },
    {
     "name": "stderr",
     "output_type": "stream",
     "text": [
      " 80%|████████  | 3200/4000 [1:44:26<2:56:03, 13.20s/it, Ep. score=0.600]"
     ]
    },
    {
     "name": "stdout",
     "output_type": "stream",
     "text": [
      "Avg. score over last 100 episodes: 0.563\n"
     ]
    },
    {
     "name": "stderr",
     "output_type": "stream",
     "text": [
      " 82%|████████▎ | 3300/4000 [2:08:48<3:23:34, 17.45s/it, Ep. score=1.100]"
     ]
    },
    {
     "name": "stdout",
     "output_type": "stream",
     "text": [
      "Avg. score over last 100 episodes: 0.892\n"
     ]
    },
    {
     "name": "stderr",
     "output_type": "stream",
     "text": [
      " 83%|████████▎ | 3326/4000 [2:16:25<27:38,  2.46s/it, Ep. score=2.600]  "
     ]
    },
    {
     "name": "stdout",
     "output_type": "stream",
     "text": [
      "Early stop at episode 3325\n"
     ]
    },
    {
     "name": "stderr",
     "output_type": "stream",
     "text": [
      "\n"
     ]
    }
   ],
   "source": [
    "scores_deque = deque(maxlen=avg_score_over_k_episodes)                       \n",
    "all_scores = []\n",
    "all_actions = []\n",
    "max_score = -1\n",
    "\n",
    "with tqdm(total=n_episodes) as pbar:\n",
    "    for episode in range(n_episodes):\n",
    "        env_info = env.reset(train_mode=True)[brain_name]  \n",
    "        agent.reset(progress=episode/n_episodes)\n",
    "        \n",
    "        states = env_info.vector_observations   \n",
    "        episode_scores = np.zeros(num_agents)\n",
    "        dones = [0, 0]\n",
    "        while not np.any(dones):\n",
    "            actions = agent.act(states, add_noise=True)\n",
    "            actions = np.array(actions)\n",
    "            all_actions.append(actions)\n",
    "            env_info = env.step(actions)[brain_name]\n",
    "            \n",
    "            next_states = env_info.vector_observations\n",
    "            rewards = env_info.rewards\n",
    "            dones = env_info.local_done\n",
    "\n",
    "            agent.step(states, actions, rewards, next_states, dones)\n",
    "            episode_scores += rewards\n",
    "            states = next_states\n",
    "            \n",
    "        episode_scores = [episode_scores.max()]\n",
    "        scores_deque.extend(list(episode_scores))\n",
    "        all_scores.extend(list(episode_scores))\n",
    "        \n",
    "        avg_score = np.mean(scores_deque)\n",
    "        \n",
    "        if episode % avg_score_over_k_episodes == avg_score_over_k_episodes-1:\n",
    "            print(f\"Avg. score over last {avg_score_over_k_episodes} episodes: {avg_score:.3f}\")\n",
    "        pbar.set_postfix({\"Ep. score\": f\"{episode_scores[0]:.3f}\"})\n",
    "        pbar.update(1)\n",
    "        \n",
    "        if avg_score >= 0.5 and episode >= avg_score_over_k_episodes:\n",
    "            if max_score < 0.5:\n",
    "                print(f\"PROBLEM SOLVED! Achieved {avg_score:.4f} score over the last {avg_score_over_k_episodes} episodes\")\n",
    "            if avg_score > max_score:\n",
    "                max_score = avg_score\n",
    "                for i, ag in enumerate(agent.agents):\n",
    "                    torch.save(ag.actor_local.state_dict(), os.path.join(os.getcwd(), \n",
    "                                                                         \"DeepRL\", \"MADDPG\", \"checkpoints\", f'checkpoint_actor_{i}.pth'))\n",
    "                    torch.save(ag.critic_local.state_dict(), os.path.join(os.getcwd(), \n",
    "                                                                         \"DeepRL\", \"MADDPG\", \"checkpoints\", f'checkpoint_critic_{i}.pth'))\n",
    "                    torch.save(ag.td3_critic_local.state_dict(), os.path.join(os.getcwd(), \n",
    "                                                                         \"DeepRL\", \"MADDPG\", \"checkpoints\",  f'checkpoint_td3_critic_{i}.pth'))\n",
    "            if avg_score >= 1.0:\n",
    "                print(f\"Early stop at episode {episode}\")\n",
    "                break\n",
    "\n",
    "env.close()\n"
   ]
  },
  {
   "cell_type": "markdown",
   "metadata": {},
   "source": [
    "### 4. Results\n",
    "\n",
    "The MADDPG agent was successful in solving the environment.\n",
    "\n",
    "The environment was solved in 3200 episodes, achieving an average score of over +0.5 across 100 consecutive episodes.\n",
    "\n",
    "The plot above shows the score for each episode, with the orange line representing the 100-episode moving average. The score initially fluctuates but shows a clear upward trend, eventually surpassing the +0.5 target (red dashed line) and remaining there, indicating a stable and successful learning process."
   ]
  },
  {
   "cell_type": "code",
   "execution_count": 10,
   "metadata": {},
   "outputs": [
    {
     "data": {
      "image/png": "[encoded data removed]",
      "text/plain": [
       "<Figure size 432x288 with 1 Axes>"
      ]
     },
     "metadata": {
      "needs_background": "light"
     },
     "output_type": "display_data"
    }
   ],
   "source": [
    "# Plot the scores\n",
    "fig = plt.figure()\n",
    "ax = fig.add_subplot(111)\n",
    "plt.plot(np.arange(1, len(all_scores)+1), all_scores, label='Episode Score')\n",
    "# Add a 100-episode moving average\n",
    "rolling_mean = pd.Series(all_scores).rolling(avg_score_over_k_episodes).mean()\n",
    "plt.plot(rolling_mean, label='100-episode Average', color='orange')\n",
    "plt.axhline(y=0.5, color='r', linestyle='--', label='Target Score (0.5)')\n",
    "plt.ylabel('Score')\n",
    "plt.xlabel('Episode #')\n",
    "plt.title('Scores per Episode during Training')\n",
    "plt.legend()\n",
    "plt.show()"
   ]
  },
  {
   "cell_type": "markdown",
   "metadata": {},
   "source": [
    "### 5. Ideas for Future Work\n",
    "\n",
    "While the MADDPG+TD3 agent performed well, several areas could be explored for further improvement:\n",
    "\n",
    "1.  **Prioritized Experience Replay (PER)**: Instead of uniform sampling, PER could be used to train more frequently on \"surprising\" or high-error transitions. This could be adapted for the multi-agent case to improve sample efficiency.\n",
    "\n",
    "2.  **Alternative Noise Strategies**: The Ornstein-Uhlenbeck process provides temporally correlated noise. It would be interesting to compare its performance with simpler, uncorrelated Gaussian noise or parameter space noise, which sometimes yields better results.\n",
    "\n",
    "3.  **Hyperparameter Optimization**: A more rigorous search for hyperparameters (e.g., using grid search or Bayesian optimization) could potentially find a configuration that allows the agents to learn even faster or achieve a higher peak performance.\n",
    "\n",
    "4.  **Exploration of Other Multi-Agent Algorithms**: It would be valuable to implement and compare the performance of other modern multi-agent algorithms, such as **Proximal Policy Optimization for Multi-Agent settings (MA-PPO)**, which is known for its stability."
   ]
  },
  {
   "cell_type": "markdown",
   "metadata": {},
   "source": [
    "### 6. Inference"
   ]
  },
  {
   "cell_type": "code",
   "execution_count": 1,
   "metadata": {},
   "outputs": [
    {
     "name": "stdout",
     "output_type": "stream",
     "text": [
      "/Users/olehborovyk/Code/drlnd\n"
     ]
    }
   ],
   "source": [
    "%cd ../../"
   ]
  },
  {
   "cell_type": "code",
   "execution_count": 2,
   "metadata": {},
   "outputs": [
    {
     "name": "stderr",
     "output_type": "stream",
     "text": [
      "INFO:unityagents:\n",
      "'Academy' started successfully!\n",
      "Unity Academy name: Academy\n",
      "        Number of Brains: 1\n",
      "        Number of External Brains : 1\n",
      "        Lesson number : 0\n",
      "        Reset Parameters :\n",
      "\t\t\n",
      "Unity brain name: TennisBrain\n",
      "        Number of Visual Observations (per agent): 0\n",
      "        Vector Observation space type: continuous\n",
      "        Vector Observation space size (per agent): 8\n",
      "        Number of stacked Vector Observation: 3\n",
      "        Vector Action space type: continuous\n",
      "        Vector Action space size (per agent): 2\n",
      "        Vector Action descriptions: , \n"
     ]
    },
    {
     "name": "stdout",
     "output_type": "stream",
     "text": [
      "Total score this episode: 0.0\n"
     ]
    }
   ],
   "source": [
    "# --- NOTE ---\n",
    "# You may need to restart the kernel and re-run the environment setup cell\n",
    "# before executing the inference code below.\n",
    "\n",
    "from unityagents import UnityEnvironment\n",
    "import torch, os\n",
    "import numpy as np\n",
    "from DeepRL.MADDPG.maddpg import MADDPG\n",
    "\n",
    "# Re-initialize environment\n",
    "path = os.path.join(os.getcwd(), \"DeepRL\", \"MADDPG\", \"Tennis.app\")\n",
    "env = UnityEnvironment(file_name=path)\n",
    "brain_name = env.brain_names[0]\n",
    "brain = env.brains[brain_name]\n",
    "env_info = env.reset(train_mode=False)[brain_name]\n",
    "\n",
    "# Get environment parameters\n",
    "action_size = brain.vector_action_space_size\n",
    "states = env_info.vector_observations\n",
    "state_size = states.shape[1]\n",
    "num_agents = len(env_info.agents)\n",
    "\n",
    "# Initialize a new agent\n",
    "RANDOM_SEED = 4252\n",
    "np.random.seed(RANDOM_SEED); torch.manual_seed(RANDOM_SEED)\n",
    "\n",
    "agent = MADDPG(\n",
    "    state_size=24,\n",
    "    action_size=2,\n",
    "    n_agents=2,\n",
    "    random_seed=RANDOM_SEED,\n",
    ")\n",
    "\n",
    "# Load the trained weights\n",
    "for i, ag in enumerate(agent.agents):\n",
    "    ag.actor_local.load_state_dict(torch.load(os.path.join(os.getcwd(), \"DeepRL\", \"MADDPG\", \"checkpoints\", f'checkpoint_actor_{i}.pth')))\n",
    "    ag.critic_local.load_state_dict(torch.load(os.path.join(os.getcwd(), \"DeepRL\", \"MADDPG\", \"checkpoints\", f'checkpoint_critic_{i}.pth')))\n",
    "    ag.td3_critic_local.load_state_dict(torch.load(os.path.join(os.getcwd(), \"DeepRL\", \"MADDPG\", \"checkpoints\", f'checkpoint_td3_critic_{i}.pth')))\n",
    "\n",
    "scores = np.zeros(num_agents)\n",
    "while True:\n",
    "    actions = agent.act(states, add_noise=False)\n",
    "    env_info = env.step(actions)[brain_name]\n",
    "    next_states = env_info.vector_observations\n",
    "    rewards = env_info.rewards\n",
    "    dones = env_info.local_done\n",
    "    scores += env_info.rewards\n",
    "    states = next_states\n",
    "    if np.any(dones):\n",
    "        break\n",
    "\n",
    "print('Total score this episode: {}'.format(np.max(scores)))\n",
    "\n",
    "env.close()"
   ]
  },
  {
   "cell_type": "markdown",
   "metadata": {},
   "source": [
    "When finished, you can close the environment."
   ]
  }
 ],
 "metadata": {
  "kernelspec": {
   "display_name": "Python 3",
   "language": "python",
   "name": "python3"
  },
  "language_info": {
   "codemirror_mode": {
    "name": "ipython",
    "version": 3
   },
   "file_extension": ".py",
   "mimetype": "text/x-python",
   "name": "python",
   "nbconvert_exporter": "python",
   "pygments_lexer": "ipython3",
   "version": "3.6.13"
  }
 },
 "nbformat": 4,
 "nbformat_minor": 4
}
