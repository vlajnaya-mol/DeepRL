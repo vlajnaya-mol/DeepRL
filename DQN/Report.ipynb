{
 "cells": [
  {
   "cell_type": "markdown",
   "metadata": {},
   "source": [
    "# Report: Navigation with a DQN Agent\n",
    "\n",
    "### Project Overview\n",
    "\n",
    "The goal of this project is to train a reinforcement learning agent to navigate a 3D environment and collect bananas. The agent must learn a policy to maximize its score by collecting yellow bananas (reward +1) and avoiding blue bananas (reward -1).\n",
    "\n",
    "This task is solved using a **Deep Q-Network (DQN)**. The standard DQN algorithm is enhanced with **Prioritized Experience Replay (PER)**, a technique that allows the agent to learn more efficiently from its experiences. The environment is considered \"solved\" when the agent achieves an average score of **+13 over 100 consecutive episodes**."
   ]
  },
  {
   "cell_type": "markdown",
   "metadata": {},
   "source": [
    "## Learning Algorithm\n",
    "\n",
    "The agent is trained using a **Deep Q-Network (DQN)**. The implementation includes several key enhancements to the original algorithm to improve learning stability and sample efficiency, most notably **Fixed Q-Targets** and **Prioritized Experience Replay (PER)**.\n",
    "\n",
    "### Key Concepts\n",
    "\n",
    "1.  **Deep Q-Network (DQN)**: The core of the agent is a neural network that approximates the optimal action-value function, `Q*(s, a)`. This network takes the state (37 dimensions) as input and outputs a Q-value for each of the 4 possible discrete actions.\n",
    "\n",
    "2.  **Fixed Q-Targets**: To stabilize learning, two separate neural networks are used: a **local network** that is updated at every learning step and a **target network** that is updated less frequently. The target network is used to calculate the TD (Temporal Difference) target for the Bellman update. This separation provides a more stationary target, preventing the feedback loops that can cause Q-learning updates to diverge. The target network's weights are slowly adjusted to match the local network's weights via a \"soft update\" (`θ_target = τ*θ_local + (1-τ)*θ_target`).\n",
    "\n",
    "3.  **Prioritized Experience Replay (PER)**: This is a key enhancement over the standard experience replay. Instead of sampling experiences uniformly from the replay buffer, PER samples experiences based on their importance, which is measured by the magnitude of their TD error.\n",
    "    *   **How it works**: Experiences with high TD error are those where the agent's prediction was very wrong, meaning there is a lot to learn from them. By replaying these \"surprising\" experiences more frequently, the agent can learn more efficiently.\n",
    "    *   **Implementation**: A **Fenwick Tree** is used for efficient priority-based sampling. To correct for the bias introduced by this non-uniform sampling, **Importance Sampling (IS) weights** are used to scale the loss for each sampled experience.\n",
    "\n",
    "4.  **Epsilon-Greedy Action Selection**: To balance exploration and exploitation, the agent uses an epsilon-greedy policy. The value of `ε` (the probability of taking a random action) is annealed from `1.0` down to `0.05`. This decay happens over the first 70% of the total training episodes, after which the agent acts mostly greedily.\n",
    "\n",
    "### Model Architecture\n",
    "\n",
    "The Q-Network is a fully-connected neural network (MLP) with the following structure:\n",
    "*   **Input Layer**: 37 units (State Size)\n",
    "*   **Hidden Layer**: 256 units (with ReLU activation)\n",
    "*   **Output Layer**: 4 units (Action Size), representing the Q-value for each action.\n",
    "\n",
    "### Hyperparameters\n",
    "\n",
    "The final hyperparameters used for the successful training run are listed below.\n",
    "\n",
    "| Hyperparameter      | Value         | Description                                                        |\n",
    "| ------------------- | ------------- | ------------------------------------------------------------------ |\n",
    "| `BUFFER_SIZE`       | 1e6           | Replay buffer size                                                 |\n",
    "| `BATCH_SIZE`        | 256           | Minibatch size for training                                        |\n",
    "| `GAMMA`             | 0.99          | Discount factor for future rewards                                 |\n",
    "| `TAU`               | 1e-3          | For soft update of target network parameters                       |\n",
    "| `LR`                | 1e-4          | Learning rate of the Adam optimizer                                |\n",
    "| `UPDATE_EVERY`      | 4             | Frequency of network updates (in time steps)                       |\n",
    "| `EPSILON_BOUNDS`    | (0.05, 1.0)   | Min and max values for epsilon in epsilon-greedy policy            |\n",
    "| `ANNEAL_ENDPOINT`   | 0.7           | Fraction of total episodes over which to anneal epsilon            |\n",
    "| `ALPHA`             | 0.6           | PER: Controls prioritization (0=uniform, 1=full)                   |\n",
    "| `BETA_BOUNDS`       | (0.4, 1.0)    | PER: Min and max values for IS weight exponent `beta`              |\n",
    "| `n_episodes`        | 1000          | Maximum number of training episodes                                |"
   ]
  },
  {
   "cell_type": "markdown",
   "metadata": {},
   "source": [
    "# Navigation\n",
    "\n",
    "### 0. Prerequisites\n",
    "\n",
    "Follow environment creation and dependecy installation guidelines from the README.md file\n",
    "\n",
    "### 1. Start the Environment"
   ]
  },
  {
   "cell_type": "code",
   "execution_count": 1,
   "metadata": {},
   "outputs": [
    {
     "name": "stdout",
     "output_type": "stream",
     "text": [
      "/Users/olehborovyk/Code/drlnd\n"
     ]
    }
   ],
   "source": [
    "%cd ../../"
   ]
  },
  {
   "cell_type": "code",
   "execution_count": 2,
   "metadata": {},
   "outputs": [],
   "source": [
    "from unityagents import UnityEnvironment\n",
    "import numpy as np\n",
    "import torch, os"
   ]
  },
  {
   "cell_type": "code",
   "execution_count": 3,
   "metadata": {},
   "outputs": [],
   "source": [
    "torch.set_num_threads(4)\n",
    "torch.set_num_interop_threads(1)\n",
    "os.environ[\"OMP_NUM_THREADS\"] = \"4\""
   ]
  },
  {
   "cell_type": "code",
   "execution_count": 4,
   "metadata": {},
   "outputs": [
    {
     "name": "stderr",
     "output_type": "stream",
     "text": [
      "INFO:unityagents:\n",
      "'Academy' started successfully!\n",
      "Unity Academy name: Academy\n",
      "        Number of Brains: 1\n",
      "        Number of External Brains : 1\n",
      "        Lesson number : 0\n",
      "        Reset Parameters :\n",
      "\t\t\n",
      "Unity brain name: BananaBrain\n",
      "        Number of Visual Observations (per agent): 0\n",
      "        Vector Observation space type: continuous\n",
      "        Vector Observation space size (per agent): 37\n",
      "        Number of stacked Vector Observation: 1\n",
      "        Vector Action space type: discrete\n",
      "        Vector Action space size (per agent): 4\n",
      "        Vector Action descriptions: , , , \n"
     ]
    }
   ],
   "source": [
    "path = os.path.join(os.getcwd(), \"DeepRL\", \"DQN\", \"Banana.app\")\n",
    "env = UnityEnvironment(file_name=path)"
   ]
  },
  {
   "cell_type": "code",
   "execution_count": 5,
   "metadata": {},
   "outputs": [],
   "source": [
    "# get the default brain\n",
    "brain_name = env.brain_names[0]\n",
    "brain = env.brains[brain_name]"
   ]
  },
  {
   "cell_type": "markdown",
   "metadata": {},
   "source": [
    "### 2. Examine the State and Action Spaces"
   ]
  },
  {
   "cell_type": "code",
   "execution_count": 6,
   "metadata": {},
   "outputs": [
    {
     "name": "stdout",
     "output_type": "stream",
     "text": [
      "Number of agents: 1\n",
      "Number of actions: 4\n",
      "States look like: [1.         0.         0.         0.         0.84408134 0.\n",
      " 0.         1.         0.         0.0748472  0.         1.\n",
      " 0.         0.         0.25755    1.         0.         0.\n",
      " 0.         0.74177343 0.         1.         0.         0.\n",
      " 0.25854847 0.         0.         1.         0.         0.09355672\n",
      " 0.         1.         0.         0.         0.31969345 0.\n",
      " 0.        ]\n",
      "States have length: 37\n"
     ]
    }
   ],
   "source": [
    "# reset the environment\n",
    "env_info = env.reset(train_mode=True)[brain_name]\n",
    "\n",
    "# number of agents in the environment\n",
    "num_agents = len(env_info.agents)\n",
    "print('Number of agents:', num_agents)\n",
    "\n",
    "# number of actions\n",
    "action_size = brain.vector_action_space_size\n",
    "print('Number of actions:', action_size)\n",
    "\n",
    "# examine the state space \n",
    "state = env_info.vector_observations[0]\n",
    "print('States look like:', state)\n",
    "state_size = len(state)\n",
    "print('States have length:', state_size)"
   ]
  },
  {
   "cell_type": "markdown",
   "metadata": {},
   "source": [
    "### 3. DQN Training"
   ]
  },
  {
   "cell_type": "code",
   "execution_count": 7,
   "metadata": {},
   "outputs": [],
   "source": [
    "import random\n",
    "import torch\n",
    "import time\n",
    "import numpy as np\n",
    "from tqdm import tqdm\n",
    "from collections import deque\n",
    "import pandas as pd\n",
    "import matplotlib.pyplot as plt\n",
    "%matplotlib inline\n",
    "\n",
    "from DeepRL.DQN.dqn import Agent"
   ]
  },
  {
   "cell_type": "code",
   "execution_count": 8,
   "metadata": {},
   "outputs": [],
   "source": [
    "agent = Agent(\n",
    "        state_size=state_size,\n",
    "        action_size=action_size,\n",
    "        random_seed=42,\n",
    "    \n",
    "        buffer_size=int(1e6),\n",
    "        batch_size=256,\n",
    "        gamma=0.99,\n",
    "        tau=1e-3,\n",
    "    \n",
    "        lr=1e-4,\n",
    "        epsilon_bounds=(0.05, 1.0),\n",
    "        anneal_endpoint=0.7,\n",
    "        update_every=4,\n",
    "    \n",
    "        # PER parameters\n",
    "        alpha=0.6,\n",
    "        beta_bounds=(0.4, 1.0),\n",
    "    \n",
    ")\n",
    "\n",
    "n_episodes = 1000\n",
    "avg_score_over_k_episodes = 100"
   ]
  },
  {
   "cell_type": "code",
   "execution_count": 9,
   "metadata": {},
   "outputs": [
    {
     "name": "stderr",
     "output_type": "stream",
     "text": [
      " 10%|█         | 100/1000 [01:19<11:59,  1.25it/s, Ep. score=0.000]"
     ]
    },
    {
     "name": "stdout",
     "output_type": "stream",
     "text": [
      "Avg. score over last 100 episodes: 0.080\n"
     ]
    },
    {
     "name": "stderr",
     "output_type": "stream",
     "text": [
      " 20%|██        | 200/1000 [02:40<10:49,  1.23it/s, Ep. score=3.000] "
     ]
    },
    {
     "name": "stdout",
     "output_type": "stream",
     "text": [
      "Avg. score over last 100 episodes: 0.460\n"
     ]
    },
    {
     "name": "stderr",
     "output_type": "stream",
     "text": [
      " 30%|███       | 300/1000 [04:03<09:42,  1.20it/s, Ep. score=-1.000]"
     ]
    },
    {
     "name": "stdout",
     "output_type": "stream",
     "text": [
      "Avg. score over last 100 episodes: 2.280\n"
     ]
    },
    {
     "name": "stderr",
     "output_type": "stream",
     "text": [
      " 40%|████      | 400/1000 [05:26<08:14,  1.21it/s, Ep. score=8.000] "
     ]
    },
    {
     "name": "stdout",
     "output_type": "stream",
     "text": [
      "Avg. score over last 100 episodes: 6.580\n"
     ]
    },
    {
     "name": "stderr",
     "output_type": "stream",
     "text": [
      " 50%|█████     | 500/1000 [06:49<06:53,  1.21it/s, Ep. score=12.000]"
     ]
    },
    {
     "name": "stdout",
     "output_type": "stream",
     "text": [
      "Avg. score over last 100 episodes: 9.530\n"
     ]
    },
    {
     "name": "stderr",
     "output_type": "stream",
     "text": [
      " 60%|██████    | 600/1000 [08:15<05:53,  1.13it/s, Ep. score=11.000]"
     ]
    },
    {
     "name": "stdout",
     "output_type": "stream",
     "text": [
      "Avg. score over last 100 episodes: 10.920\n"
     ]
    },
    {
     "name": "stderr",
     "output_type": "stream",
     "text": [
      " 70%|███████   | 700/1000 [09:44<04:29,  1.11it/s, Ep. score=18.000]"
     ]
    },
    {
     "name": "stdout",
     "output_type": "stream",
     "text": [
      "Avg. score over last 100 episodes: 12.280\n"
     ]
    },
    {
     "name": "stderr",
     "output_type": "stream",
     "text": [
      " 77%|███████▋  | 772/1000 [10:50<03:27,  1.10it/s, Ep. score=20.000]"
     ]
    },
    {
     "name": "stdout",
     "output_type": "stream",
     "text": [
      "PROBLEM SOLVED! Achieved 13.0200 score over the last 100 episodes\n"
     ]
    },
    {
     "name": "stderr",
     "output_type": "stream",
     "text": [
      " 80%|████████  | 800/1000 [11:15<03:01,  1.10it/s, Ep. score=14.000]"
     ]
    },
    {
     "name": "stdout",
     "output_type": "stream",
     "text": [
      "Avg. score over last 100 episodes: 13.470\n"
     ]
    },
    {
     "name": "stderr",
     "output_type": "stream",
     "text": [
      " 90%|█████████ | 900/1000 [12:50<01:44,  1.05s/it, Ep. score=17.000]"
     ]
    },
    {
     "name": "stdout",
     "output_type": "stream",
     "text": [
      "Avg. score over last 100 episodes: 13.060\n"
     ]
    },
    {
     "name": "stderr",
     "output_type": "stream",
     "text": [
      "100%|██████████| 1000/1000 [14:22<00:00,  1.16it/s, Ep. score=6.000]"
     ]
    },
    {
     "name": "stdout",
     "output_type": "stream",
     "text": [
      "Avg. score over last 100 episodes: 14.460\n"
     ]
    },
    {
     "name": "stderr",
     "output_type": "stream",
     "text": [
      "\n"
     ]
    }
   ],
   "source": [
    "scores_deque = deque(maxlen=avg_score_over_k_episodes)                       \n",
    "all_scores = []\n",
    "actions = []\n",
    "max_score = -1\n",
    "\n",
    "with tqdm(total=n_episodes) as pbar:\n",
    "    for episode in range(n_episodes):\n",
    "        env_info = env.reset(train_mode=True)[brain_name]  \n",
    "        agent.reset(progress=episode/n_episodes)\n",
    "        \n",
    "        states = env_info.vector_observations   \n",
    "        episode_scores = np.zeros(num_agents)\n",
    "        dones = [0]\n",
    "        while not np.any(dones):\n",
    "            action = agent.act(states[0])\n",
    "            actions.append(action)\n",
    "            env_info = env.step({brain_name: [action]})[brain_name]\n",
    "            \n",
    "            next_states = env_info.vector_observations\n",
    "            rewards = env_info.rewards\n",
    "            dones = env_info.local_done\n",
    "\n",
    "            agent.step(states[0], action, rewards[0], next_states[0], dones[0])\n",
    "\n",
    "            episode_scores += rewards\n",
    "            states = next_states\n",
    "\n",
    "        scores_deque.extend(list(episode_scores))\n",
    "        all_scores.extend(list(episode_scores))\n",
    "        \n",
    "        avg_score = np.mean(scores_deque)\n",
    "        \n",
    "        if episode % avg_score_over_k_episodes == avg_score_over_k_episodes-1:\n",
    "            print(f\"Avg. score over last {avg_score_over_k_episodes} episodes: {avg_score:.3f}\")\n",
    "        pbar.set_postfix({\"Ep. score\": f\"{episode_scores[0]:.3f}\"})\n",
    "        pbar.update(1)\n",
    "        \n",
    "        if avg_score >= 13.0 and episode >= avg_score_over_k_episodes:\n",
    "            if max_score < 13.0:\n",
    "                print(f\"PROBLEM SOLVED! Achieved {avg_score:.4f} score over the last 100 episodes\")\n",
    "            if avg_score > max_score:\n",
    "                max_score = avg_score\n",
    "                torch.save(agent.qn_local.state_dict(), os.path.join(os.getcwd(), \"DeepRL\", \"DQN\", 'checkpoint_qn_local.pth'))\n",
    "                torch.save(agent.qn_target.state_dict(), os.path.join(os.getcwd(), \"DeepRL\", \"DQN\", 'checkpoint_qn_target.pth'))\n",
    "            if max_score > 15.0:\n",
    "                print(f\"Early stop at episode {episode}\")\n",
    "                break\n",
    "env.close()"
   ]
  },
  {
   "cell_type": "markdown",
   "metadata": {},
   "source": [
    "## 4. Results\n",
    "\n",
    "The DQN agent with Prioritized Experience Replay successfully solved the environment.\n",
    "\n",
    "The environment was solved in 772 episodes, achieving the target average score of +13 over 100 consecutive episodes.\n",
    "\n",
    "The plot below illustrates the agent's performance during training. The score per episode (blue) shows significant variance, which is typical for RL tasks. However, the 100-episode moving average (orange) demonstrates a clear and steady learning trend, eventually surpassing the +13 goal (red dashed line) and continuing to improve."
   ]
  },
  {
   "cell_type": "code",
   "execution_count": 10,
   "metadata": {},
   "outputs": [
    {
     "data": {
      "image/png": "[encoded data removed]",
      "text/plain": [
       "<Figure size 432x288 with 1 Axes>"
      ]
     },
     "metadata": {
      "needs_background": "light"
     },
     "output_type": "display_data"
    }
   ],
   "source": [
    "# Plot the scores\n",
    "fig = plt.figure()\n",
    "ax = fig.add_subplot(111)\n",
    "plt.plot(np.arange(1, len(all_scores)+1), all_scores, label='Episode Score')\n",
    "# Add a 100-episode moving average\n",
    "rolling_mean = pd.Series(all_scores).rolling(avg_score_over_k_episodes).mean()\n",
    "plt.plot(rolling_mean, label='100-episode Average', color='orange')\n",
    "plt.axhline(y=13, color='r', linestyle='--', label='Target Score (30)')\n",
    "plt.ylabel('Score')\n",
    "plt.xlabel('Episode #')\n",
    "plt.title('Scores per Episode during Training')\n",
    "plt.legend()\n",
    "plt.show()"
   ]
  },
  {
   "cell_type": "markdown",
   "metadata": {},
   "source": [
    "## 5. Ideas for Future Work\n",
    "\n",
    "While the agent was successful, its performance could be further improved by exploring several advanced techniques from the DQN literature:\n",
    "\n",
    "1.  **Double DQN (DDQN)**: The standard DQN algorithm is known to suffer from an overestimation of Q-values. DDQN addresses this by decoupling the action selection from the target Q-value calculation. The local network is used to select the best action, but the target network is used to evaluate the Q-value of that action. This simple change often leads to more stable training and better final performance.\n",
    "\n",
    "2.  **Dueling DQN**: This architectural change splits the Q-network into two streams: one that estimates the state-value function `V(s)` and another that estimates the advantage function `A(s, a)` for each action. These are then combined to produce the final Q-values. This allows the network to learn which states are valuable without having to learn the effect of each action in those states.\n",
    "\n",
    "3.  **Rainbow DQN**: Combine multiple DQN improvements (DQN, DDQN, Dueling, PER, etc.) into a single agent. Research has shown that these enhancements are largely complementary and result in a significantly more powerful agent.\n",
    "\n",
    "4.  **Noisy Nets for Exploration**: Instead of using epsilon-greedy, noise can be added to the weights of the network's final layers. This creates a state-dependent exploration strategy that can be more effective, as the agent can learn to explore more in uncertain parts of the state space."
   ]
  },
  {
   "cell_type": "markdown",
   "metadata": {},
   "source": [
    "## 6. Inference"
   ]
  },
  {
   "cell_type": "code",
   "execution_count": 1,
   "metadata": {},
   "outputs": [
    {
     "name": "stdout",
     "output_type": "stream",
     "text": [
      "/Users/olehborovyk/Code/drlnd\n"
     ]
    }
   ],
   "source": [
    "%cd ../../"
   ]
  },
  {
   "cell_type": "code",
   "execution_count": 2,
   "metadata": {},
   "outputs": [
    {
     "name": "stderr",
     "output_type": "stream",
     "text": [
      "INFO:unityagents:\n",
      "'Academy' started successfully!\n",
      "Unity Academy name: Academy\n",
      "        Number of Brains: 1\n",
      "        Number of External Brains : 1\n",
      "        Lesson number : 0\n",
      "        Reset Parameters :\n",
      "\t\t\n",
      "Unity brain name: BananaBrain\n",
      "        Number of Visual Observations (per agent): 0\n",
      "        Vector Observation space type: continuous\n",
      "        Vector Observation space size (per agent): 37\n",
      "        Number of stacked Vector Observation: 1\n",
      "        Vector Action space type: discrete\n",
      "        Vector Action space size (per agent): 4\n",
      "        Vector Action descriptions: , , , \n"
     ]
    },
    {
     "name": "stdout",
     "output_type": "stream",
     "text": [
      "Total score this episode: 11.0\n"
     ]
    }
   ],
   "source": [
    "# --- NOTE ---\n",
    "# You may need to restart the kernel and re-run the environment setup cell\n",
    "# before executing the inference code below.\n",
    "\n",
    "from unityagents import UnityEnvironment\n",
    "import torch, os\n",
    "import numpy as np\n",
    "from DeepRL.DQN.dqn import Agent\n",
    "\n",
    "# Re-initialize environment\n",
    "path = os.path.join(os.getcwd(), \"DeepRL\", \"DQN\", \"Banana.app\")\n",
    "env = UnityEnvironment(file_name=path)\n",
    "brain_name = env.brain_names[0]\n",
    "brain = env.brains[brain_name]\n",
    "env_info = env.reset(train_mode=False)[brain_name]\n",
    "\n",
    "# Get environment parameters\n",
    "action_size = brain.vector_action_space_size\n",
    "states = env_info.vector_observations\n",
    "state_size = states.shape[1]\n",
    "num_agents = len(env_info.agents)\n",
    "\n",
    "# Initialize a new agent\n",
    "agent = Agent(state_size=state_size, action_size=action_size, random_seed=43, epsilon_bounds=[0.05,0.05])\n",
    "\n",
    "# Load the trained weights\n",
    "agent.qn_local.load_state_dict(torch.load(os.path.join(os.getcwd(), \"DeepRL\", \"DQN\", 'checkpoint_qn_local.pth')))\n",
    "\n",
    "scores = np.zeros(num_agents)\n",
    "while True:\n",
    "    actions = agent.act(states)\n",
    "    env_info = env.step(actions)[brain_name]\n",
    "    next_states = env_info.vector_observations\n",
    "    rewards = env_info.rewards\n",
    "    dones = env_info.local_done\n",
    "    scores += env_info.rewards\n",
    "    states = next_states\n",
    "    if np.any(dones):\n",
    "        break\n",
    "\n",
    "print('Total score this episode: {}'.format(np.mean(scores)))\n",
    "\n",
    "env.close()"
   ]
  },
  {
   "cell_type": "code",
   "execution_count": null,
   "metadata": {},
   "outputs": [],
   "source": []
  }
 ],
 "metadata": {
  "kernelspec": {
   "display_name": "Python 3",
   "language": "python",
   "name": "python3"
  },
  "language_info": {
   "codemirror_mode": {
    "name": "ipython",
    "version": 3
   },
   "file_extension": ".py",
   "mimetype": "text/x-python",
   "name": "python",
   "nbconvert_exporter": "python",
   "pygments_lexer": "ipython3",
   "version": "3.6.13"
  }
 },
 "nbformat": 4,
 "nbformat_minor": 4
}
