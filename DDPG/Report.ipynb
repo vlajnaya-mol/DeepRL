{
 "cells": [
  {
   "cell_type": "markdown",
   "metadata": {},
   "source": [
    "## 1. Learning Algorithm\n",
    "\n",
    "To solve this continuous control problem, I implemented the Deep Deterministic Policy Gradient (DDPG) algorithm. DDPG is an actor-critic, model-free algorithm based on the deterministic policy gradient that can operate over continuous action spaces.\n",
    "\n",
    "### DDPG Algorithm Key Concepts\n",
    "\n",
    "DDPG concurrently learns a Q-function and a policy. It uses off-policy data and the Bellman equation to learn the Q-function, and uses the Q-function to learn the policy. The algorithm is an extension of Deep Q-Networks (DQN) to continuous action spaces. The key components are:\n",
    "\n",
    "1.  **Actor-Critic Architecture**:\n",
    "    *   **Actor (`μ(s|θ^μ)`)**: A neural network that maps states to a specific action (a deterministic policy). It is responsible for deciding the best action to take in a given state.\n",
    "    *   **Critic (`Q(s, a|θ^Q)`)**: A neural network that learns to evaluate the value of a state-action pair by estimating the expected return (Q-value).\n",
    "\n",
    "2.  **Target Networks**: DDPG uses target networks for both the actor (`μ'`) and the critic (`Q'`). These are time-delayed copies of their original networks that slowly track the learned networks. This approach greatly improves stability by providing consistent targets for the learning updates. The target networks are updated using a \"soft update\" mechanism:\n",
    "    `θ_target = τ * θ_local + (1 - τ) * θ_target`, with `τ << 1`.\n",
    "\n",
    "3.  **Experience Replay Buffer**: A replay buffer is used to store a large number of past experiences `(state, action, reward, next_state)`. During training, the agent samples mini-batches from this buffer. This de-correlates experiences, breaks harmful temporal correlations, and improves learning efficiency and stability.\n",
    "\n",
    "4.  **Exploration**: Since the policy is deterministic, exploration is added by injecting noise into the actions. A common choice, and the one used here, is the **Ornstein-Uhlenbeck process**, which generates temporally correlated noise that is effective for physical control tasks.\n",
    "\n",
    "### Model Architectures\n",
    "\n",
    "Both the Actor and Critic models are implemented as neural networks using PyTorch.\n",
    "\n",
    "**Actor Network**\n",
    "The actor network takes the state as input and outputs a continuous action.\n",
    "*   **Input Layer**: 33 units (State Size)\n",
    "*   **Hidden Layer 1**: 256 units (with ReLU activation)\n",
    "*   **Hidden Layer 2**: 128 units (with ReLU activation)\n",
    "*   **Output Layer**: 4 units (Action Size, with Tanh activation to bound actions between -1 and 1)\n",
    "\n",
    "**Critic Network**\n",
    "The critic network takes a state and an action as input and outputs the corresponding Q-value.\n",
    "*   **Input Layer (State)**: 33 units (State Size) -> **Hidden Layer 1**: 256 units (with Leaky ReLU activation)\n",
    "*   **Concatenation**: The output from the first hidden layer is concatenated with the action vector (4 units).\n",
    "*   **Hidden Layer 2**: 256 units (with Leaky ReLU activation)\n",
    "*   **Hidden Layer 3**: 128 units (with Leaky ReLU activation)\n",
    "*   **Output Layer**: 1 unit (Q-value)\n",
    "\n",
    "### Hyperparameters\n",
    "\n",
    "The following hyperparameters were chosen for training the agent. These values were selected based both on the original DDPG paper and empirical tuning.\n",
    "\n",
    "| Hyperparameter         | Value                 | Description                                           |\n",
    "| ---------------------- | --------------------- | ----------------------------------------------------- |\n",
    "| `BUFFER_SIZE`          | 5e5 (500,000)         | Replay buffer size                                    |\n",
    "| `BATCH_SIZE`           | 128                   | Minibatch size for training                           |\n",
    "| `GAMMA`                | 0.99                  | Discount factor for future rewards                    |\n",
    "| `TAU`                  | 1e-3 (0.001)          | Soft update parameter for target networks             |\n",
    "| `LR_ACTOR`             | 5e-5 (0.00005)        | Learning rate for the actor network optimizer         |\n",
    "| `LR_CRITIC`            | 5e-4 (0.0005)         | Learning rate for the critic network optimizer        |\n",
    "| `WEIGHT_DECAY`         | 1e-5 (0.00001)        | L2 weight decay for the critic optimizer              |\n",
    "| `NOISE_MU`             | 0.0                   | Ornstein-Uhlenbeck noise `mu` parameter               |\n",
    "| `NOISE_THETA`          | 0.15                  | Ornstein-Uhlenbeck noise `theta` parameter            |\n",
    "| `NOISE_SIGMA`          | 0.2                   | Ornstein-Uhlenbeck noise `sigma` parameter            |\n",
    "| `UPDATES_PER_STEP`     | 10                    | Number of learning updates per environment step       |\n",
    "| `UPDATE_EACH`          | 20                    | Learn every 20 steps                                  |\n",
    "| `n_episodes`           | 500                   | Maximum number of training episodes                   |"
   ]
  },
  {
   "cell_type": "markdown",
   "metadata": {},
   "source": [
    "# Continuous Control\n",
    "\n",
    "## 0. Prerequisites\n",
    "\n",
    "Follow environment creation and dependecy installation guidelines from the README.md file\n",
    "\n",
    "### 1. Start the Environment"
   ]
  },
  {
   "cell_type": "code",
   "execution_count": 1,
   "metadata": {},
   "outputs": [],
   "source": [
    "from unityagents import UnityEnvironment\n",
    "import numpy as np\n",
    "import torch, os"
   ]
  },
  {
   "cell_type": "code",
   "execution_count": 2,
   "metadata": {},
   "outputs": [],
   "source": [
    "torch.set_num_threads(4)\n",
    "torch.set_num_interop_threads(1)\n",
    "os.environ[\"OMP_NUM_THREADS\"] = \"4\""
   ]
  },
  {
   "cell_type": "code",
   "execution_count": 3,
   "metadata": {},
   "outputs": [
    {
     "name": "stderr",
     "output_type": "stream",
     "text": [
      "INFO:unityagents:\n",
      "'Academy' started successfully!\n",
      "Unity Academy name: Academy\n",
      "        Number of Brains: 1\n",
      "        Number of External Brains : 1\n",
      "        Lesson number : 0\n",
      "        Reset Parameters :\n",
      "\t\tgoal_speed -> 1.0\n",
      "\t\tgoal_size -> 5.0\n",
      "Unity brain name: ReacherBrain\n",
      "        Number of Visual Observations (per agent): 0\n",
      "        Vector Observation space type: continuous\n",
      "        Vector Observation space size (per agent): 33\n",
      "        Number of stacked Vector Observation: 1\n",
      "        Vector Action space type: continuous\n",
      "        Vector Action space size (per agent): 4\n",
      "        Vector Action descriptions: , , , \n"
     ]
    }
   ],
   "source": [
    "path = os.path.join(os.getcwd(), \"Reacher.app\")\n",
    "env = UnityEnvironment(file_name=path)"
   ]
  },
  {
   "cell_type": "code",
   "execution_count": 4,
   "metadata": {},
   "outputs": [],
   "source": [
    "# get the default brain\n",
    "brain_name = env.brain_names[0]\n",
    "brain = env.brains[brain_name]"
   ]
  },
  {
   "cell_type": "markdown",
   "metadata": {},
   "source": [
    "### 2. Examine the State and Action Spaces"
   ]
  },
  {
   "cell_type": "code",
   "execution_count": 5,
   "metadata": {},
   "outputs": [
    {
     "name": "stdout",
     "output_type": "stream",
     "text": [
      "Number of agents: 1\n",
      "Size of each action: 4\n",
      "There are 1 agents. Each observes a state with length: 33\n",
      "The state for the first agent looks like: [ 0.00000000e+00 -4.00000000e+00  0.00000000e+00  1.00000000e+00\n",
      " -0.00000000e+00 -0.00000000e+00 -4.37113883e-08  0.00000000e+00\n",
      "  0.00000000e+00  0.00000000e+00  0.00000000e+00  0.00000000e+00\n",
      "  0.00000000e+00  0.00000000e+00 -1.00000000e+01  0.00000000e+00\n",
      "  1.00000000e+00 -0.00000000e+00 -0.00000000e+00 -4.37113883e-08\n",
      "  0.00000000e+00  0.00000000e+00  0.00000000e+00  0.00000000e+00\n",
      "  0.00000000e+00  0.00000000e+00  5.75471878e+00 -1.00000000e+00\n",
      "  5.55726671e+00  0.00000000e+00  1.00000000e+00  0.00000000e+00\n",
      " -1.68164849e-01]\n"
     ]
    }
   ],
   "source": [
    "# reset the environment\n",
    "env_info = env.reset(train_mode=True)[brain_name]\n",
    "\n",
    "# number of agents\n",
    "num_agents = len(env_info.agents)\n",
    "print('Number of agents:', num_agents)\n",
    "\n",
    "# size of each action\n",
    "action_size = brain.vector_action_space_size\n",
    "print('Size of each action:', action_size)\n",
    "\n",
    "# examine the state space \n",
    "states = env_info.vector_observations\n",
    "state_size = states.shape[1]\n",
    "print('There are {} agents. Each observes a state with length: {}'.format(states.shape[0], state_size))\n",
    "print('The state for the first agent looks like:', states[0])"
   ]
  },
  {
   "cell_type": "code",
   "execution_count": 6,
   "metadata": {},
   "outputs": [],
   "source": [
    "import random\n",
    "import torch\n",
    "import time\n",
    "import numpy as np\n",
    "from tqdm import tqdm\n",
    "from collections import deque\n",
    "import pandas as pd\n",
    "import matplotlib.pyplot as plt\n",
    "%matplotlib inline\n",
    "\n",
    "from ddpg_agent import Agent"
   ]
  },
  {
   "cell_type": "code",
   "execution_count": 7,
   "metadata": {},
   "outputs": [],
   "source": [
    "agent = Agent(\n",
    "        state_size=state_size,\n",
    "        action_size=action_size,\n",
    "        random_seed=42,\n",
    "    \n",
    "        buffer_size=int(5e5),\n",
    "        batch_size=128,\n",
    "        gamma=0.99,\n",
    "        tau=1e-3,\n",
    "    \n",
    "        lr_actor=5e-5,\n",
    "        lr_critic=5e-4,\n",
    "    \n",
    "        weight_decay=1e-5,\n",
    "        noise_mu=0.0,\n",
    "        noise_theta=0.15,\n",
    "        noise_sigma=0.2,\n",
    "    \n",
    "        warmup_steps=10_000,\n",
    "        updates_per_step=10,\n",
    "        update_each=20\n",
    ")\n",
    "\n",
    "n_episodes = 600\n",
    "avg_score_over_k_episodes = 100"
   ]
  },
  {
   "cell_type": "code",
   "execution_count": 8,
   "metadata": {},
   "outputs": [
    {
     "name": "stderr",
     "output_type": "stream",
     "text": [
      " 17%|█▋        | 100/600 [09:22<54:54,  6.59s/it, Ep. score=11.950]"
     ]
    },
    {
     "name": "stdout",
     "output_type": "stream",
     "text": [
      "Avg. score over last 100 episodes: 2.871\n"
     ]
    },
    {
     "name": "stderr",
     "output_type": "stream",
     "text": [
      " 33%|███▎      | 200/600 [20:58<49:07,  7.37s/it, Ep. score=19.320]"
     ]
    },
    {
     "name": "stdout",
     "output_type": "stream",
     "text": [
      "Avg. score over last 100 episodes: 14.705\n"
     ]
    },
    {
     "name": "stderr",
     "output_type": "stream",
     "text": [
      " 50%|█████     | 300/600 [33:38<38:52,  7.77s/it, Ep. score=20.750]"
     ]
    },
    {
     "name": "stdout",
     "output_type": "stream",
     "text": [
      "Avg. score over last 100 episodes: 20.290\n"
     ]
    },
    {
     "name": "stderr",
     "output_type": "stream",
     "text": [
      " 67%|██████▋   | 400/600 [45:23<24:53,  7.47s/it, Ep. score=32.320]"
     ]
    },
    {
     "name": "stdout",
     "output_type": "stream",
     "text": [
      "Avg. score over last 100 episodes: 24.760\n"
     ]
    },
    {
     "name": "stderr",
     "output_type": "stream",
     "text": [
      " 83%|████████▎ | 500/600 [57:49<12:31,  7.51s/it, Ep. score=21.910]"
     ]
    },
    {
     "name": "stdout",
     "output_type": "stream",
     "text": [
      "Avg. score over last 100 episodes: 28.403\n"
     ]
    },
    {
     "name": "stderr",
     "output_type": "stream",
     "text": [
      " 95%|█████████▍| 569/600 [1:06:37<03:52,  7.49s/it, Ep. score=34.770]"
     ]
    },
    {
     "name": "stdout",
     "output_type": "stream",
     "text": [
      "PROBLEM SOLVED! Achieved 30.0233 score over the last 100 episodes\n"
     ]
    },
    {
     "name": "stderr",
     "output_type": "stream",
     "text": [
      "100%|██████████| 600/600 [1:10:30<00:00,  7.05s/it, Ep. score=30.590]"
     ]
    },
    {
     "name": "stdout",
     "output_type": "stream",
     "text": [
      "Avg. score over last 100 episodes: 30.575\n"
     ]
    },
    {
     "name": "stderr",
     "output_type": "stream",
     "text": [
      "\n"
     ]
    }
   ],
   "source": [
    "scores_deque = deque(maxlen=avg_score_over_k_episodes)                       \n",
    "all_scores = []\n",
    "actions = []\n",
    "max_score = -1\n",
    "\n",
    "with tqdm(total=n_episodes) as pbar:\n",
    "    for episode in range(n_episodes):\n",
    "        env_info = env.reset(train_mode=True)[brain_name]  \n",
    "        agent.reset(progress=episode/n_episodes)\n",
    "        \n",
    "        states = env_info.vector_observations   \n",
    "        episode_scores = np.zeros(num_agents)\n",
    "        dones = [0]\n",
    "        while not np.any(dones):\n",
    "            action = agent.act(states[0], add_noise=True)\n",
    "            actions.append(action)\n",
    "            env_info = env.step({brain_name: [action]})[brain_name]\n",
    "            \n",
    "            next_states = env_info.vector_observations\n",
    "            rewards = env_info.rewards\n",
    "            dones = env_info.local_done\n",
    "\n",
    "            agent.step(states[0], action, rewards[0], next_states[0], dones[0])\n",
    "\n",
    "            episode_scores += rewards\n",
    "            states = next_states\n",
    "\n",
    "        scores_deque.extend(list(episode_scores))\n",
    "        all_scores.extend(list(episode_scores))\n",
    "        \n",
    "        avg_score = np.mean(scores_deque)\n",
    "        \n",
    "        if episode % avg_score_over_k_episodes == avg_score_over_k_episodes-1:\n",
    "            print(f\"Avg. score over last {avg_score_over_k_episodes} episodes: {avg_score:.3f}\")\n",
    "        pbar.set_postfix({\"Ep. score\": f\"{episode_scores[0]:.3f}\"})\n",
    "        pbar.update(1)\n",
    "        \n",
    "        if avg_score >= 30.0 and episode >= avg_score_over_k_episodes:\n",
    "            if max_score < 30.0:\n",
    "                print(f\"PROBLEM SOLVED! Achieved {avg_score:.4f} score over the last 100 episodes\")\n",
    "            if avg_score > max_score:\n",
    "                max_score = avg_score\n",
    "                torch.save(agent.actor_local.state_dict(), 'checkpoint_actor.pth')\n",
    "                torch.save(agent.critic_local.state_dict(), 'checkpoint_critic.pth')\n",
    "env.close()"
   ]
  },
  {
   "cell_type": "code",
   "execution_count": 9,
   "metadata": {},
   "outputs": [
    {
     "data": {
      "image/png": "[encoded data removed]",
      "text/plain": [
       "<Figure size 432x288 with 1 Axes>"
      ]
     },
     "metadata": {
      "needs_background": "light"
     },
     "output_type": "display_data"
    }
   ],
   "source": [
    "# Plot the scores\n",
    "fig = plt.figure()\n",
    "ax = fig.add_subplot(111)\n",
    "plt.plot(np.arange(1, len(all_scores)+1), all_scores, label='Episode Score')\n",
    "# Add a 100-episode moving average\n",
    "rolling_mean = pd.Series(all_scores).rolling(avg_score_over_k_episodes).mean()\n",
    "plt.plot(rolling_mean, label='100-episode Average', color='orange')\n",
    "plt.axhline(y=30, color='r', linestyle='--', label='Target Score (30)')\n",
    "plt.ylabel('Score')\n",
    "plt.xlabel('Episode #')\n",
    "plt.title('Scores per Episode during Training')\n",
    "plt.legend()\n",
    "plt.show()"
   ]
  },
  {
   "cell_type": "markdown",
   "metadata": {},
   "source": [
    "## 4. Ideas for Future Work\n",
    "\n",
    "While the DDPG agent successfully solved the environment, there are several avenues for future improvement and exploration:\n",
    "\n",
    "1.  **Algorithm Enhancements**:\n",
    "    *   **Twin Delayed DDPG (TD3)**: Implement TD3, which is an extension of DDPG that addresses the overestimation bias of the critic by using two critic networks and taking the minimum of their Q-values. This often leads to more stable training and better performance.\n",
    "    *   **Prioritized Experience Replay (PER)**: Instead of uniform sampling from the replay buffer, use PER to sample experiences that the agent found most surprising or had the highest error. This can make learning more efficient.\n",
    "    *   **Proximal Policy Optimization (PPO)**: Explore other algorithms designed for continuous control, such as PPO, which is known for its stability and ease of implementation.\n",
    "\n",
    "2.  **Hyperparameter Tuning**:\n",
    "    *   A more systematic approach to hyperparameter tuning, such as Grid Search or Bayesian Optimization, could yield a combination of parameters that allows the agent to learn faster or achieve a higher final score.\n",
    "\n",
    "3.  **Network Architecture**:\n",
    "    *   Experiment with different neural network architectures for the actor and critic. Adding or removing layers, changing the number of units per layer, or incorporating techniques like Batch Normalization could improve learning dynamics.\n",
    "\n",
    "4.  **Exploration Strategy**:\n",
    "    *   The Ornstein-Uhlenbeck process worked well, but other exploration strategies could be tested. For instance, using parameter space noise, where noise is added directly to the actor's weights, can sometimes lead to more consistent exploration."
   ]
  },
  {
   "cell_type": "markdown",
   "metadata": {},
   "source": [
    "## Inference"
   ]
  },
  {
   "cell_type": "code",
   "execution_count": null,
   "metadata": {
    "tags": []
   },
   "outputs": [],
   "source": [
    "# --- NOTE ---\n",
    "# You may need to restart the kernel and re-run the environment setup cell\n",
    "# before executing the inference code below.\n",
    "\n",
    "from unityagents import UnityEnvironment\n",
    "import torch, os\n",
    "import numpy as np\n",
    "from ddpg_agent import Agent\n",
    "\n",
    "# Re-initialize environment\n",
    "path = os.path.join(os.getcwd(), \"Reacher.app\")\n",
    "env = UnityEnvironment(file_name=path)\n",
    "brain_name = env.brain_names[0]\n",
    "brain = env.brains[brain_name]\n",
    "env_info = env.reset(train_mode=False)[brain_name]\n",
    "\n",
    "# Get environment parameters\n",
    "action_size = brain.vector_action_space_size\n",
    "states = env_info.vector_observations\n",
    "state_size = states.shape[1]\n",
    "num_agents = len(env_info.agents)\n",
    "\n",
    "# Initialize a new agent\n",
    "agent = Agent(state_size=state_size, action_size=action_size, random_seed=42)\n",
    "\n",
    "# Load the trained weights\n",
    "agent.actor_local.load_state_dict(torch.load('checkpoint_actor.pth'))\n",
    "agent.critic_local.load_state_dict(torch.load('checkpoint_critic.pth'))\n",
    "\n",
    "scores = np.zeros(num_agents)\n",
    "while True:\n",
    "    actions = agent.act(states, add_noise=False)\n",
    "    env_info = env.step(actions)[brain_name]\n",
    "    next_states = env_info.vector_observations\n",
    "    rewards = env_info.rewards\n",
    "    dones = env_info.local_done\n",
    "    scores += env_info.rewards\n",
    "    states = next_states\n",
    "    if np.any(dones):\n",
    "        break\n",
    "\n",
    "print('Total score this episode: {}'.format(np.mean(scores)))\n",
    "\n",
    "env.close()"
   ]
  },
  {
   "cell_type": "code",
   "execution_count": null,
   "metadata": {},
   "outputs": [],
   "source": []
  }
 ],
 "metadata": {
  "kernelspec": {
   "display_name": "Python 3",
   "language": "python",
   "name": "python3"
  },
  "language_info": {
   "codemirror_mode": {
    "name": "ipython",
    "version": 3
   },
   "file_extension": ".py",
   "mimetype": "text/x-python",
   "name": "python",
   "nbconvert_exporter": "python",
   "pygments_lexer": "ipython3",
   "version": "3.6.13"
  }
 },
 "nbformat": 4,
 "nbformat_minor": 4
}
